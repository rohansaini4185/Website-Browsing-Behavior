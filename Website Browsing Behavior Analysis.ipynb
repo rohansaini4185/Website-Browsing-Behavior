{
 "cells": [
  {
   "cell_type": "code",
   "execution_count": 1,
   "metadata": {},
   "outputs": [
    {
     "name": "stdout",
     "output_type": "stream",
     "text": [
      "Libraries Import Succesfull\n"
     ]
    }
   ],
   "source": [
    "import pandas as pd\n",
    "import numpy as np\n",
    "\n",
    "import seaborn as sns\n",
    "import matplotlib.pyplot as plt\n",
    "%matplotlib inline\n",
    "\n",
    "import warnings\n",
    "warnings.filterwarnings('ignore')\n",
    "print('Libraries Import Succesfull')"
   ]
  },
  {
   "cell_type": "code",
   "execution_count": 2,
   "metadata": {},
   "outputs": [],
   "source": [
    "site_browsing=pd.read_csv(r'G:\\Siemens\\Problem2_Site_BrowingBehavior.csv',delimiter='\\t',header=None) \n",
    "site_browsing.columns=['Timestamp', 'UserID','Website_section_visited']"
   ]
  },
  {
   "cell_type": "code",
   "execution_count": 3,
   "metadata": {},
   "outputs": [
    {
     "data": {
      "text/html": [
       "<div>\n",
       "<style scoped>\n",
       "    .dataframe tbody tr th:only-of-type {\n",
       "        vertical-align: middle;\n",
       "    }\n",
       "\n",
       "    .dataframe tbody tr th {\n",
       "        vertical-align: top;\n",
       "    }\n",
       "\n",
       "    .dataframe thead th {\n",
       "        text-align: right;\n",
       "    }\n",
       "</style>\n",
       "<table border=\"1\" class=\"dataframe\">\n",
       "  <thead>\n",
       "    <tr style=\"text-align: right;\">\n",
       "      <th></th>\n",
       "      <th>Timestamp</th>\n",
       "      <th>UserID</th>\n",
       "      <th>Website_section_visited</th>\n",
       "    </tr>\n",
       "  </thead>\n",
       "  <tbody>\n",
       "    <tr>\n",
       "      <td>0</td>\n",
       "      <td>2017-07-26 00:01:40.965</td>\n",
       "      <td>0</td>\n",
       "      <td>product</td>\n",
       "    </tr>\n",
       "    <tr>\n",
       "      <td>1</td>\n",
       "      <td>2017-07-26 00:03:18.448</td>\n",
       "      <td>0</td>\n",
       "      <td>product</td>\n",
       "    </tr>\n",
       "    <tr>\n",
       "      <td>2</td>\n",
       "      <td>2017-07-26 00:36:59.028</td>\n",
       "      <td>0</td>\n",
       "      <td>default</td>\n",
       "    </tr>\n",
       "    <tr>\n",
       "      <td>3</td>\n",
       "      <td>2017-07-26 00:41:17.273</td>\n",
       "      <td>0</td>\n",
       "      <td>product-listing-category</td>\n",
       "    </tr>\n",
       "    <tr>\n",
       "      <td>4</td>\n",
       "      <td>2017-07-26 00:45:39.197</td>\n",
       "      <td>0</td>\n",
       "      <td>content</td>\n",
       "    </tr>\n",
       "  </tbody>\n",
       "</table>\n",
       "</div>"
      ],
      "text/plain": [
       "                 Timestamp  UserID   Website_section_visited\n",
       "0  2017-07-26 00:01:40.965       0                   product\n",
       "1  2017-07-26 00:03:18.448       0                   product\n",
       "2  2017-07-26 00:36:59.028       0                   default\n",
       "3  2017-07-26 00:41:17.273       0  product-listing-category\n",
       "4  2017-07-26 00:45:39.197       0                   content"
      ]
     },
     "execution_count": 3,
     "metadata": {},
     "output_type": "execute_result"
    }
   ],
   "source": [
    "site_browsing.head()"
   ]
  },
  {
   "cell_type": "code",
   "execution_count": 4,
   "metadata": {},
   "outputs": [
    {
     "data": {
      "text/plain": [
       "array(['2017-07-26 00:01:40.965', '2017-07-26 00:03:18.448',\n",
       "       '2017-07-26 00:36:59.028', ..., '2017-07-26 23:19:11.569',\n",
       "       '2017-07-26 23:21:56.085', '2017-07-26 23:16:32.835'], dtype=object)"
      ]
     },
     "execution_count": 4,
     "metadata": {},
     "output_type": "execute_result"
    }
   ],
   "source": [
    "site_browsing['Timestamp'].unique()"
   ]
  },
  {
   "cell_type": "code",
   "execution_count": 5,
   "metadata": {},
   "outputs": [],
   "source": [
    "#Converting to datatime format\n",
    "#site_browsing['Timestamp']=pd.to_datetime(site_browsing['Timestamp'])"
   ]
  },
  {
   "cell_type": "code",
   "execution_count": 6,
   "metadata": {},
   "outputs": [
    {
     "data": {
      "image/png": "[encoded data removed]",
      "text/plain": [
       "<Figure size 864x576 with 1 Axes>"
      ]
     },
     "metadata": {
      "needs_background": "light"
     },
     "output_type": "display_data"
    }
   ],
   "source": [
    "plt.figure(figsize=(12,8))\n",
    "sns.countplot(site_browsing['Website_section_visited'])\n",
    "plt.xticks(rotation=90);"
   ]
  },
  {
   "cell_type": "code",
   "execution_count": 7,
   "metadata": {},
   "outputs": [
    {
     "name": "stdout",
     "output_type": "stream",
     "text": [
      "Shape of Dataset :  (5535924, 3)\n"
     ]
    }
   ],
   "source": [
    "print(\"Shape of Dataset : \",site_browsing.shape)"
   ]
  },
  {
   "cell_type": "code",
   "execution_count": 8,
   "metadata": {},
   "outputs": [
    {
     "data": {
      "text/plain": [
       "Timestamp                  0\n",
       "UserID                     0\n",
       "Website_section_visited    0\n",
       "dtype: int64"
      ]
     },
     "execution_count": 8,
     "metadata": {},
     "output_type": "execute_result"
    }
   ],
   "source": [
    "site_browsing.isnull().sum()"
   ]
  },
  {
   "cell_type": "code",
   "execution_count": 9,
   "metadata": {},
   "outputs": [
    {
     "name": "stdout",
     "output_type": "stream",
     "text": [
      "<class 'pandas.core.frame.DataFrame'>\n",
      "RangeIndex: 5535924 entries, 0 to 5535923\n",
      "Data columns (total 3 columns):\n",
      "Timestamp                  object\n",
      "UserID                     int64\n",
      "Website_section_visited    object\n",
      "dtypes: int64(1), object(2)\n",
      "memory usage: 126.7+ MB\n"
     ]
    }
   ],
   "source": [
    "site_browsing.info()"
   ]
  },
  {
   "cell_type": "code",
   "execution_count": 10,
   "metadata": {},
   "outputs": [
    {
     "data": {
      "text/plain": [
       "516932"
      ]
     },
     "execution_count": 10,
     "metadata": {},
     "output_type": "execute_result"
    }
   ],
   "source": [
    "#Number of UserIds in dataset\n",
    "site_browsing['UserID'].nunique()"
   ]
  },
  {
   "cell_type": "code",
   "execution_count": 11,
   "metadata": {},
   "outputs": [
    {
     "data": {
      "text/plain": [
       "product                     1855680\n",
       "product-listing-category     823365\n",
       "home                         752124\n",
       "default                      552025\n",
       "content                      488874\n",
       "iroa                         428497\n",
       "cart                         323325\n",
       "product-listing-search       262481\n",
       "shoplive                      35810\n",
       "productNotFound                9333\n",
       "product-listing-custom         2970\n",
       "signupcomplete                 1312\n",
       "mys                              63\n",
       "error                            60\n",
       "lorigreiner                       3\n",
       "category                          1\n",
       "wishlist                          1\n",
       "Name: Website_section_visited, dtype: int64"
      ]
     },
     "execution_count": 11,
     "metadata": {},
     "output_type": "execute_result"
    }
   ],
   "source": [
    "site_browsing['Website_section_visited'].value_counts()"
   ]
  },
  {
   "cell_type": "code",
   "execution_count": 12,
   "metadata": {},
   "outputs": [
    {
     "data": {
      "text/html": [
       "<div>\n",
       "<style scoped>\n",
       "    .dataframe tbody tr th:only-of-type {\n",
       "        vertical-align: middle;\n",
       "    }\n",
       "\n",
       "    .dataframe tbody tr th {\n",
       "        vertical-align: top;\n",
       "    }\n",
       "\n",
       "    .dataframe thead th {\n",
       "        text-align: right;\n",
       "    }\n",
       "</style>\n",
       "<table border=\"1\" class=\"dataframe\">\n",
       "  <thead>\n",
       "    <tr style=\"text-align: right;\">\n",
       "      <th></th>\n",
       "      <th>Timestamp</th>\n",
       "      <th>UserID</th>\n",
       "      <th>Website_section_visited</th>\n",
       "    </tr>\n",
       "  </thead>\n",
       "  <tbody>\n",
       "    <tr>\n",
       "      <td>0</td>\n",
       "      <td>2017-07-26 00:01:40.965</td>\n",
       "      <td>0</td>\n",
       "      <td>product</td>\n",
       "    </tr>\n",
       "    <tr>\n",
       "      <td>1</td>\n",
       "      <td>2017-07-26 00:03:18.448</td>\n",
       "      <td>0</td>\n",
       "      <td>product</td>\n",
       "    </tr>\n",
       "    <tr>\n",
       "      <td>2</td>\n",
       "      <td>2017-07-26 00:36:59.028</td>\n",
       "      <td>0</td>\n",
       "      <td>default</td>\n",
       "    </tr>\n",
       "    <tr>\n",
       "      <td>3</td>\n",
       "      <td>2017-07-26 00:41:17.273</td>\n",
       "      <td>0</td>\n",
       "      <td>product-listing-category</td>\n",
       "    </tr>\n",
       "    <tr>\n",
       "      <td>4</td>\n",
       "      <td>2017-07-26 00:45:39.197</td>\n",
       "      <td>0</td>\n",
       "      <td>content</td>\n",
       "    </tr>\n",
       "  </tbody>\n",
       "</table>\n",
       "</div>"
      ],
      "text/plain": [
       "                 Timestamp  UserID   Website_section_visited\n",
       "0  2017-07-26 00:01:40.965       0                   product\n",
       "1  2017-07-26 00:03:18.448       0                   product\n",
       "2  2017-07-26 00:36:59.028       0                   default\n",
       "3  2017-07-26 00:41:17.273       0  product-listing-category\n",
       "4  2017-07-26 00:45:39.197       0                   content"
      ]
     },
     "execution_count": 12,
     "metadata": {},
     "output_type": "execute_result"
    }
   ],
   "source": [
    "site_browsing.head()"
   ]
  },
  {
   "cell_type": "code",
   "execution_count": 13,
   "metadata": {},
   "outputs": [
    {
     "data": {
      "text/html": [
       "<div>\n",
       "<style scoped>\n",
       "    .dataframe tbody tr th:only-of-type {\n",
       "        vertical-align: middle;\n",
       "    }\n",
       "\n",
       "    .dataframe tbody tr th {\n",
       "        vertical-align: top;\n",
       "    }\n",
       "\n",
       "    .dataframe thead th {\n",
       "        text-align: right;\n",
       "    }\n",
       "</style>\n",
       "<table border=\"1\" class=\"dataframe\">\n",
       "  <thead>\n",
       "    <tr style=\"text-align: right;\">\n",
       "      <th></th>\n",
       "      <th>UserID</th>\n",
       "      <th>No_of_times_visited</th>\n",
       "    </tr>\n",
       "  </thead>\n",
       "  <tbody>\n",
       "    <tr>\n",
       "      <td>0</td>\n",
       "      <td>0</td>\n",
       "      <td>1407879</td>\n",
       "    </tr>\n",
       "    <tr>\n",
       "      <td>101129</td>\n",
       "      <td>544439661706349</td>\n",
       "      <td>10</td>\n",
       "    </tr>\n",
       "    <tr>\n",
       "      <td>101130</td>\n",
       "      <td>634394594974068</td>\n",
       "      <td>19</td>\n",
       "    </tr>\n",
       "    <tr>\n",
       "      <td>101134</td>\n",
       "      <td>887103105578626</td>\n",
       "      <td>10</td>\n",
       "    </tr>\n",
       "    <tr>\n",
       "      <td>101136</td>\n",
       "      <td>962713767308725</td>\n",
       "      <td>18</td>\n",
       "    </tr>\n",
       "  </tbody>\n",
       "</table>\n",
       "</div>"
      ],
      "text/plain": [
       "                 UserID  No_of_times_visited\n",
       "0                     0              1407879\n",
       "101129  544439661706349                   10\n",
       "101130  634394594974068                   19\n",
       "101134  887103105578626                   10\n",
       "101136  962713767308725                   18"
      ]
     },
     "execution_count": 13,
     "metadata": {},
     "output_type": "execute_result"
    }
   ],
   "source": [
    "#to analyse how many times an account visited\n",
    "Login_count=site_browsing.groupby('UserID').Website_section_visited.agg(['count']).reindex(\n",
    "    site_browsing.UserID).reset_index()\n",
    "Login_count.columns=['UserID','No_of_times_visited']\n",
    "Login_count.drop_duplicates(inplace=True)\n",
    "Login_count.head()"
   ]
  },
  {
   "cell_type": "markdown",
   "metadata": {},
   "source": [
    "#### Reading Final_Conversion Dataset"
   ]
  },
  {
   "cell_type": "code",
   "execution_count": 14,
   "metadata": {},
   "outputs": [
    {
     "data": {
      "text/html": [
       "<div>\n",
       "<style scoped>\n",
       "    .dataframe tbody tr th:only-of-type {\n",
       "        vertical-align: middle;\n",
       "    }\n",
       "\n",
       "    .dataframe tbody tr th {\n",
       "        vertical-align: top;\n",
       "    }\n",
       "\n",
       "    .dataframe thead th {\n",
       "        text-align: right;\n",
       "    }\n",
       "</style>\n",
       "<table border=\"1\" class=\"dataframe\">\n",
       "  <thead>\n",
       "    <tr style=\"text-align: right;\">\n",
       "      <th></th>\n",
       "      <th>Timestamp</th>\n",
       "      <th>UserID</th>\n",
       "      <th>Products_Purchased</th>\n",
       "      <th>Cart_Value</th>\n",
       "    </tr>\n",
       "  </thead>\n",
       "  <tbody>\n",
       "    <tr>\n",
       "      <td>0</td>\n",
       "      <td>2017-07-26 00:00:10.465</td>\n",
       "      <td>0</td>\n",
       "      <td>A293532</td>\n",
       "      <td>52.14</td>\n",
       "    </tr>\n",
       "    <tr>\n",
       "      <td>1</td>\n",
       "      <td>2017-07-26 00:00:12.301</td>\n",
       "      <td>0</td>\n",
       "      <td>H209597</td>\n",
       "      <td>31.50</td>\n",
       "    </tr>\n",
       "    <tr>\n",
       "      <td>2</td>\n",
       "      <td>2017-07-26 00:00:12.388</td>\n",
       "      <td>0</td>\n",
       "      <td>H211370</td>\n",
       "      <td>30.48</td>\n",
       "    </tr>\n",
       "    <tr>\n",
       "      <td>3</td>\n",
       "      <td>2017-07-26 00:00:14.389</td>\n",
       "      <td>0</td>\n",
       "      <td>A282331</td>\n",
       "      <td>51.00</td>\n",
       "    </tr>\n",
       "    <tr>\n",
       "      <td>4</td>\n",
       "      <td>2017-07-26 00:00:16.837</td>\n",
       "      <td>0</td>\n",
       "      <td>H211410</td>\n",
       "      <td>16.74</td>\n",
       "    </tr>\n",
       "  </tbody>\n",
       "</table>\n",
       "</div>"
      ],
      "text/plain": [
       "                 Timestamp  UserID Products_Purchased  Cart_Value\n",
       "0  2017-07-26 00:00:10.465       0            A293532       52.14\n",
       "1  2017-07-26 00:00:12.301       0            H209597       31.50\n",
       "2  2017-07-26 00:00:12.388       0            H211370       30.48\n",
       "3  2017-07-26 00:00:14.389       0            A282331       51.00\n",
       "4  2017-07-26 00:00:16.837       0            H211410       16.74"
      ]
     },
     "execution_count": 14,
     "metadata": {},
     "output_type": "execute_result"
    }
   ],
   "source": [
    "final_conversion=pd.read_csv(r'G:\\Siemens\\Problem2_FInalConversions.csv',sep=\"\\t\",header = None)\n",
    "final_conversion.columns=['Timestamp', 'UserID', 'Products_Purchased', 'Cart_Value']\n",
    "final_conversion.head()"
   ]
  },
  {
   "cell_type": "code",
   "execution_count": 15,
   "metadata": {},
   "outputs": [],
   "source": [
    "#Converting to datatime format\n",
    "#final_conversion['Timestamp']=pd.to_datetime(final_conversion['Timestamp'])"
   ]
  },
  {
   "cell_type": "code",
   "execution_count": 79,
   "metadata": {},
   "outputs": [],
   "source": [
    "#Merging two Dataframes\n",
    "df_final=pd.merge(final_conversion,site_browsing, on=['UserID'], how='inner', left_index=True, right_index=True)"
   ]
  },
  {
   "cell_type": "code",
   "execution_count": 80,
   "metadata": {},
   "outputs": [
    {
     "data": {
      "text/html": [
       "<div>\n",
       "<style scoped>\n",
       "    .dataframe tbody tr th:only-of-type {\n",
       "        vertical-align: middle;\n",
       "    }\n",
       "\n",
       "    .dataframe tbody tr th {\n",
       "        vertical-align: top;\n",
       "    }\n",
       "\n",
       "    .dataframe thead th {\n",
       "        text-align: right;\n",
       "    }\n",
       "</style>\n",
       "<table border=\"1\" class=\"dataframe\">\n",
       "  <thead>\n",
       "    <tr style=\"text-align: right;\">\n",
       "      <th></th>\n",
       "      <th>Timestamp_x</th>\n",
       "      <th>UserID</th>\n",
       "      <th>Products_Purchased</th>\n",
       "      <th>Cart_Value</th>\n",
       "      <th>Timestamp_y</th>\n",
       "      <th>Website_section_visited</th>\n",
       "    </tr>\n",
       "  </thead>\n",
       "  <tbody>\n",
       "    <tr>\n",
       "      <td>0</td>\n",
       "      <td>2017-07-26 00:00:10.465</td>\n",
       "      <td>0</td>\n",
       "      <td>A293532</td>\n",
       "      <td>52.140</td>\n",
       "      <td>2017-07-26 00:01:40.965</td>\n",
       "      <td>product</td>\n",
       "    </tr>\n",
       "    <tr>\n",
       "      <td>1</td>\n",
       "      <td>2017-07-26 00:00:12.301</td>\n",
       "      <td>0</td>\n",
       "      <td>H209597</td>\n",
       "      <td>31.500</td>\n",
       "      <td>2017-07-26 00:03:18.448</td>\n",
       "      <td>product</td>\n",
       "    </tr>\n",
       "    <tr>\n",
       "      <td>2</td>\n",
       "      <td>2017-07-26 00:00:12.388</td>\n",
       "      <td>0</td>\n",
       "      <td>H211370</td>\n",
       "      <td>30.480</td>\n",
       "      <td>2017-07-26 00:36:59.028</td>\n",
       "      <td>default</td>\n",
       "    </tr>\n",
       "    <tr>\n",
       "      <td>3</td>\n",
       "      <td>2017-07-26 00:00:14.389</td>\n",
       "      <td>0</td>\n",
       "      <td>A282331</td>\n",
       "      <td>51.000</td>\n",
       "      <td>2017-07-26 00:41:17.273</td>\n",
       "      <td>product-listing-category</td>\n",
       "    </tr>\n",
       "    <tr>\n",
       "      <td>4</td>\n",
       "      <td>2017-07-26 00:00:16.837</td>\n",
       "      <td>0</td>\n",
       "      <td>H211410</td>\n",
       "      <td>16.740</td>\n",
       "      <td>2017-07-26 00:45:39.197</td>\n",
       "      <td>content</td>\n",
       "    </tr>\n",
       "  </tbody>\n",
       "</table>\n",
       "</div>"
      ],
      "text/plain": [
       "               Timestamp_x  UserID Products_Purchased  Cart_Value  \\\n",
       "0  2017-07-26 00:00:10.465       0            A293532      52.140   \n",
       "1  2017-07-26 00:00:12.301       0            H209597      31.500   \n",
       "2  2017-07-26 00:00:12.388       0            H211370      30.480   \n",
       "3  2017-07-26 00:00:14.389       0            A282331      51.000   \n",
       "4  2017-07-26 00:00:16.837       0            H211410      16.740   \n",
       "\n",
       "               Timestamp_y   Website_section_visited  \n",
       "0  2017-07-26 00:01:40.965                   product  \n",
       "1  2017-07-26 00:03:18.448                   product  \n",
       "2  2017-07-26 00:36:59.028                   default  \n",
       "3  2017-07-26 00:41:17.273  product-listing-category  \n",
       "4  2017-07-26 00:45:39.197                   content  "
      ]
     },
     "execution_count": 80,
     "metadata": {},
     "output_type": "execute_result"
    }
   ],
   "source": [
    "df_final.head()"
   ]
  },
  {
   "cell_type": "code",
   "execution_count": 81,
   "metadata": {},
   "outputs": [],
   "source": [
    "#Seperating last three values from timestamp\n",
    "df_final['Timestamp_x']=df_final['Timestamp_x'].astype(str)\n",
    "df_final['Timestamp_y']=df_final['Timestamp_y'].astype(str)\n",
    "\n",
    "df_final['Timestamp_x']=df_final['Timestamp_x'].str.split('.',expand=True)\n",
    "df_final['Timestamp_y']=df_final['Timestamp_y'].str.split('.',expand=True)"
   ]
  },
  {
   "cell_type": "code",
   "execution_count": 82,
   "metadata": {},
   "outputs": [],
   "source": [
    "df_final['Date_time_x']=pd.to_datetime(df_final['Timestamp_x'])\n",
    "df_final['Date_time_y']=pd.to_datetime(df_final['Timestamp_y'])"
   ]
  },
  {
   "cell_type": "code",
   "execution_count": 83,
   "metadata": {},
   "outputs": [],
   "source": [
    "#Time Conversion\n",
    "import datetime\n",
    "from datetime import timedelta\n",
    "\n",
    "def Time_conversion(df_final):\n",
    "    time_delta=df_final['Date_time_y']-df_final['Date_time_x']\n",
    "    total_seconds=time_delta.total_seconds()\n",
    "    minutes=total_seconds/60\n",
    "    return abs(minutes)"
   ]
  },
  {
   "cell_type": "code",
   "execution_count": 84,
   "metadata": {},
   "outputs": [
    {
     "data": {
      "text/html": [
       "<div>\n",
       "<style scoped>\n",
       "    .dataframe tbody tr th:only-of-type {\n",
       "        vertical-align: middle;\n",
       "    }\n",
       "\n",
       "    .dataframe tbody tr th {\n",
       "        vertical-align: top;\n",
       "    }\n",
       "\n",
       "    .dataframe thead th {\n",
       "        text-align: right;\n",
       "    }\n",
       "</style>\n",
       "<table border=\"1\" class=\"dataframe\">\n",
       "  <thead>\n",
       "    <tr style=\"text-align: right;\">\n",
       "      <th></th>\n",
       "      <th>UserID</th>\n",
       "      <th>Products_Purchased</th>\n",
       "      <th>Cart_Value</th>\n",
       "      <th>Website_section_visited</th>\n",
       "      <th>Time_spent_Minutes_day</th>\n",
       "    </tr>\n",
       "  </thead>\n",
       "  <tbody>\n",
       "    <tr>\n",
       "      <td>0</td>\n",
       "      <td>0</td>\n",
       "      <td>A293532</td>\n",
       "      <td>52.140</td>\n",
       "      <td>product</td>\n",
       "      <td>1.500</td>\n",
       "    </tr>\n",
       "    <tr>\n",
       "      <td>1</td>\n",
       "      <td>0</td>\n",
       "      <td>H209597</td>\n",
       "      <td>31.500</td>\n",
       "      <td>product</td>\n",
       "      <td>3.100</td>\n",
       "    </tr>\n",
       "    <tr>\n",
       "      <td>2</td>\n",
       "      <td>0</td>\n",
       "      <td>H211370</td>\n",
       "      <td>30.480</td>\n",
       "      <td>default</td>\n",
       "      <td>36.783</td>\n",
       "    </tr>\n",
       "    <tr>\n",
       "      <td>3</td>\n",
       "      <td>0</td>\n",
       "      <td>A282331</td>\n",
       "      <td>51.000</td>\n",
       "      <td>product-listing-category</td>\n",
       "      <td>41.050</td>\n",
       "    </tr>\n",
       "    <tr>\n",
       "      <td>4</td>\n",
       "      <td>0</td>\n",
       "      <td>H211410</td>\n",
       "      <td>16.740</td>\n",
       "      <td>content</td>\n",
       "      <td>45.383</td>\n",
       "    </tr>\n",
       "  </tbody>\n",
       "</table>\n",
       "</div>"
      ],
      "text/plain": [
       "   UserID Products_Purchased  Cart_Value   Website_section_visited  \\\n",
       "0       0            A293532      52.140                   product   \n",
       "1       0            H209597      31.500                   product   \n",
       "2       0            H211370      30.480                   default   \n",
       "3       0            A282331      51.000  product-listing-category   \n",
       "4       0            H211410      16.740                   content   \n",
       "\n",
       "   Time_spent_Minutes_day  \n",
       "0                   1.500  \n",
       "1                   3.100  \n",
       "2                  36.783  \n",
       "3                  41.050  \n",
       "4                  45.383  "
      ]
     },
     "execution_count": 84,
     "metadata": {},
     "output_type": "execute_result"
    }
   ],
   "source": [
    "df_final['Time_spent_Minutes_day']=df_final.apply(Time_conversion,axis=1)\n",
    "\n",
    "df_final.drop(['Timestamp_x','Timestamp_y','Date_time_x','Date_time_y'],axis=1,inplace=True)\n",
    "df_final.head()"
   ]
  },
  {
   "cell_type": "code",
   "execution_count": 85,
   "metadata": {},
   "outputs": [
    {
     "data": {
      "text/html": [
       "<div>\n",
       "<style scoped>\n",
       "    .dataframe tbody tr th:only-of-type {\n",
       "        vertical-align: middle;\n",
       "    }\n",
       "\n",
       "    .dataframe tbody tr th {\n",
       "        vertical-align: top;\n",
       "    }\n",
       "\n",
       "    .dataframe thead th {\n",
       "        text-align: right;\n",
       "    }\n",
       "</style>\n",
       "<table border=\"1\" class=\"dataframe\">\n",
       "  <thead>\n",
       "    <tr style=\"text-align: right;\">\n",
       "      <th></th>\n",
       "      <th>UserID</th>\n",
       "      <th>Total_cart_value</th>\n",
       "    </tr>\n",
       "  </thead>\n",
       "  <tbody>\n",
       "    <tr>\n",
       "      <td>0</td>\n",
       "      <td>0</td>\n",
       "      <td>1375101.660</td>\n",
       "    </tr>\n",
       "    <tr>\n",
       "      <td>548</td>\n",
       "      <td>5942997097932061</td>\n",
       "      <td>157.950</td>\n",
       "    </tr>\n",
       "    <tr>\n",
       "      <td>549</td>\n",
       "      <td>23951842225160889</td>\n",
       "      <td>60.960</td>\n",
       "    </tr>\n",
       "    <tr>\n",
       "      <td>551</td>\n",
       "      <td>30833658052409950</td>\n",
       "      <td>216.120</td>\n",
       "    </tr>\n",
       "    <tr>\n",
       "      <td>552</td>\n",
       "      <td>33873861847792934</td>\n",
       "      <td>53.240</td>\n",
       "    </tr>\n",
       "  </tbody>\n",
       "</table>\n",
       "</div>"
      ],
      "text/plain": [
       "                UserID  Total_cart_value\n",
       "0                    0       1375101.660\n",
       "548   5942997097932061           157.950\n",
       "549  23951842225160889            60.960\n",
       "551  30833658052409950           216.120\n",
       "552  33873861847792934            53.240"
      ]
     },
     "execution_count": 85,
     "metadata": {},
     "output_type": "execute_result"
    }
   ],
   "source": [
    "#Total Money Spent by Each UserID\n",
    "df_cart=df_final.groupby('UserID')['Cart_Value'].agg(['sum']).reindex(df_final['UserID']).reset_index()\n",
    "df_cart.drop_duplicates(inplace=True)\n",
    "df_cart.columns=['UserID','Total_cart_value']\n",
    "df_cart.head()"
   ]
  },
  {
   "cell_type": "code",
   "execution_count": 86,
   "metadata": {},
   "outputs": [
    {
     "data": {
      "text/html": [
       "<div>\n",
       "<style scoped>\n",
       "    .dataframe tbody tr th:only-of-type {\n",
       "        vertical-align: middle;\n",
       "    }\n",
       "\n",
       "    .dataframe tbody tr th {\n",
       "        vertical-align: top;\n",
       "    }\n",
       "\n",
       "    .dataframe thead th {\n",
       "        text-align: right;\n",
       "    }\n",
       "</style>\n",
       "<table border=\"1\" class=\"dataframe\">\n",
       "  <thead>\n",
       "    <tr style=\"text-align: right;\">\n",
       "      <th></th>\n",
       "      <th>UserID</th>\n",
       "      <th>Total_Products_Purchased</th>\n",
       "    </tr>\n",
       "  </thead>\n",
       "  <tbody>\n",
       "    <tr>\n",
       "      <td>0</td>\n",
       "      <td>0</td>\n",
       "      <td>20197</td>\n",
       "    </tr>\n",
       "    <tr>\n",
       "      <td>548</td>\n",
       "      <td>5942997097932061</td>\n",
       "      <td>1</td>\n",
       "    </tr>\n",
       "    <tr>\n",
       "      <td>549</td>\n",
       "      <td>23951842225160889</td>\n",
       "      <td>2</td>\n",
       "    </tr>\n",
       "    <tr>\n",
       "      <td>551</td>\n",
       "      <td>30833658052409950</td>\n",
       "      <td>5</td>\n",
       "    </tr>\n",
       "    <tr>\n",
       "      <td>552</td>\n",
       "      <td>33873861847792934</td>\n",
       "      <td>1</td>\n",
       "    </tr>\n",
       "  </tbody>\n",
       "</table>\n",
       "</div>"
      ],
      "text/plain": [
       "                UserID  Total_Products_Purchased\n",
       "0                    0                     20197\n",
       "548   5942997097932061                         1\n",
       "549  23951842225160889                         2\n",
       "551  30833658052409950                         5\n",
       "552  33873861847792934                         1"
      ]
     },
     "execution_count": 86,
     "metadata": {},
     "output_type": "execute_result"
    }
   ],
   "source": [
    "#Total Transactions by Each UserID\n",
    "df_cart_Products=df_final.groupby('UserID')['Products_Purchased'].agg(['count']).reindex(df_final['UserID']).reset_index()\n",
    "df_cart_Products.drop_duplicates(inplace=True)\n",
    "df_cart_Products.columns=['UserID','Total_Products_Purchased']\n",
    "df_cart_Products.head()"
   ]
  },
  {
   "cell_type": "code",
   "execution_count": 87,
   "metadata": {},
   "outputs": [
    {
     "data": {
      "text/html": [
       "<div>\n",
       "<style scoped>\n",
       "    .dataframe tbody tr th:only-of-type {\n",
       "        vertical-align: middle;\n",
       "    }\n",
       "\n",
       "    .dataframe tbody tr th {\n",
       "        vertical-align: top;\n",
       "    }\n",
       "\n",
       "    .dataframe thead th {\n",
       "        text-align: right;\n",
       "    }\n",
       "</style>\n",
       "<table border=\"1\" class=\"dataframe\">\n",
       "  <thead>\n",
       "    <tr style=\"text-align: right;\">\n",
       "      <th></th>\n",
       "      <th>UserID</th>\n",
       "      <th>Total_Time_Spent</th>\n",
       "    </tr>\n",
       "  </thead>\n",
       "  <tbody>\n",
       "    <tr>\n",
       "      <td>0</td>\n",
       "      <td>0</td>\n",
       "      <td>11780947.583</td>\n",
       "    </tr>\n",
       "    <tr>\n",
       "      <td>548</td>\n",
       "      <td>5942997097932061</td>\n",
       "      <td>0.450</td>\n",
       "    </tr>\n",
       "    <tr>\n",
       "      <td>549</td>\n",
       "      <td>23951842225160889</td>\n",
       "      <td>52.067</td>\n",
       "    </tr>\n",
       "    <tr>\n",
       "      <td>551</td>\n",
       "      <td>30833658052409950</td>\n",
       "      <td>381.183</td>\n",
       "    </tr>\n",
       "    <tr>\n",
       "      <td>552</td>\n",
       "      <td>33873861847792934</td>\n",
       "      <td>10.050</td>\n",
       "    </tr>\n",
       "  </tbody>\n",
       "</table>\n",
       "</div>"
      ],
      "text/plain": [
       "                UserID  Total_Time_Spent\n",
       "0                    0      11780947.583\n",
       "548   5942997097932061             0.450\n",
       "549  23951842225160889            52.067\n",
       "551  30833658052409950           381.183\n",
       "552  33873861847792934            10.050"
      ]
     },
     "execution_count": 87,
     "metadata": {},
     "output_type": "execute_result"
    }
   ],
   "source": [
    "#Total Time Stamp by Each UserID\n",
    "df_cart_timestamp=df_final.groupby('UserID')['Time_spent_Minutes_day'].agg(['sum']).reindex(df_final['UserID']).reset_index()\n",
    "df_cart_timestamp.drop_duplicates(inplace=True)\n",
    "\n",
    "pd.set_option('display.float_format', lambda x: '%.3f' % x)\n",
    "\n",
    "df_cart_timestamp.columns=['UserID','Total_Time_Spent']\n",
    "df_cart_timestamp.head()"
   ]
  },
  {
   "cell_type": "code",
   "execution_count": 88,
   "metadata": {},
   "outputs": [
    {
     "data": {
      "text/html": [
       "<div>\n",
       "<style scoped>\n",
       "    .dataframe tbody tr th:only-of-type {\n",
       "        vertical-align: middle;\n",
       "    }\n",
       "\n",
       "    .dataframe tbody tr th {\n",
       "        vertical-align: top;\n",
       "    }\n",
       "\n",
       "    .dataframe thead th {\n",
       "        text-align: right;\n",
       "    }\n",
       "</style>\n",
       "<table border=\"1\" class=\"dataframe\">\n",
       "  <thead>\n",
       "    <tr style=\"text-align: right;\">\n",
       "      <th></th>\n",
       "      <th>UserID</th>\n",
       "      <th>Products_Purchased</th>\n",
       "      <th>Cart_Value</th>\n",
       "      <th>Website_section_visited</th>\n",
       "      <th>Time_spent_Minutes_day</th>\n",
       "    </tr>\n",
       "  </thead>\n",
       "  <tbody>\n",
       "    <tr>\n",
       "      <td>0</td>\n",
       "      <td>0</td>\n",
       "      <td>A293532</td>\n",
       "      <td>52.140</td>\n",
       "      <td>product</td>\n",
       "      <td>1.500</td>\n",
       "    </tr>\n",
       "    <tr>\n",
       "      <td>1</td>\n",
       "      <td>0</td>\n",
       "      <td>H209597</td>\n",
       "      <td>31.500</td>\n",
       "      <td>product</td>\n",
       "      <td>3.100</td>\n",
       "    </tr>\n",
       "    <tr>\n",
       "      <td>2</td>\n",
       "      <td>0</td>\n",
       "      <td>H211370</td>\n",
       "      <td>30.480</td>\n",
       "      <td>default</td>\n",
       "      <td>36.783</td>\n",
       "    </tr>\n",
       "    <tr>\n",
       "      <td>3</td>\n",
       "      <td>0</td>\n",
       "      <td>A282331</td>\n",
       "      <td>51.000</td>\n",
       "      <td>product-listing-category</td>\n",
       "      <td>41.050</td>\n",
       "    </tr>\n",
       "    <tr>\n",
       "      <td>4</td>\n",
       "      <td>0</td>\n",
       "      <td>H211410</td>\n",
       "      <td>16.740</td>\n",
       "      <td>content</td>\n",
       "      <td>45.383</td>\n",
       "    </tr>\n",
       "  </tbody>\n",
       "</table>\n",
       "</div>"
      ],
      "text/plain": [
       "   UserID Products_Purchased  Cart_Value   Website_section_visited  \\\n",
       "0       0            A293532      52.140                   product   \n",
       "1       0            H209597      31.500                   product   \n",
       "2       0            H211370      30.480                   default   \n",
       "3       0            A282331      51.000  product-listing-category   \n",
       "4       0            H211410      16.740                   content   \n",
       "\n",
       "   Time_spent_Minutes_day  \n",
       "0                   1.500  \n",
       "1                   3.100  \n",
       "2                  36.783  \n",
       "3                  41.050  \n",
       "4                  45.383  "
      ]
     },
     "execution_count": 88,
     "metadata": {},
     "output_type": "execute_result"
    }
   ],
   "source": [
    "df_final.head()"
   ]
  },
  {
   "cell_type": "code",
   "execution_count": 89,
   "metadata": {},
   "outputs": [
    {
     "data": {
      "text/html": [
       "<div>\n",
       "<style scoped>\n",
       "    .dataframe tbody tr th:only-of-type {\n",
       "        vertical-align: middle;\n",
       "    }\n",
       "\n",
       "    .dataframe tbody tr th {\n",
       "        vertical-align: top;\n",
       "    }\n",
       "\n",
       "    .dataframe thead th {\n",
       "        text-align: right;\n",
       "    }\n",
       "</style>\n",
       "<table border=\"1\" class=\"dataframe\">\n",
       "  <thead>\n",
       "    <tr style=\"text-align: right;\">\n",
       "      <th></th>\n",
       "      <th>UserID</th>\n",
       "      <th>Products_Purchased</th>\n",
       "      <th>Cart_Value</th>\n",
       "      <th>Website_section_visited</th>\n",
       "      <th>Time_spent_Minutes_day</th>\n",
       "      <th>Total_cart_value</th>\n",
       "      <th>Total_Products_Purchased</th>\n",
       "      <th>Total_Time_Spent</th>\n",
       "      <th>No_of_times_visited</th>\n",
       "    </tr>\n",
       "  </thead>\n",
       "  <tbody>\n",
       "    <tr>\n",
       "      <td>0</td>\n",
       "      <td>0</td>\n",
       "      <td>A293532</td>\n",
       "      <td>52.140</td>\n",
       "      <td>product</td>\n",
       "      <td>1.500</td>\n",
       "      <td>1375101.660</td>\n",
       "      <td>20197</td>\n",
       "      <td>11780947.583</td>\n",
       "      <td>1407879</td>\n",
       "    </tr>\n",
       "    <tr>\n",
       "      <td>1</td>\n",
       "      <td>23951842225160889</td>\n",
       "      <td>H211370</td>\n",
       "      <td>33.480</td>\n",
       "      <td>product-listing-search</td>\n",
       "      <td>26.033</td>\n",
       "      <td>60.960</td>\n",
       "      <td>2</td>\n",
       "      <td>52.067</td>\n",
       "      <td>8</td>\n",
       "    </tr>\n",
       "    <tr>\n",
       "      <td>2</td>\n",
       "      <td>30833658052409950</td>\n",
       "      <td>H211394</td>\n",
       "      <td>44.680</td>\n",
       "      <td>content</td>\n",
       "      <td>54.917</td>\n",
       "      <td>216.120</td>\n",
       "      <td>5</td>\n",
       "      <td>381.183</td>\n",
       "      <td>13</td>\n",
       "    </tr>\n",
       "    <tr>\n",
       "      <td>3</td>\n",
       "      <td>33873861847792934</td>\n",
       "      <td>H211800</td>\n",
       "      <td>53.240</td>\n",
       "      <td>product</td>\n",
       "      <td>10.050</td>\n",
       "      <td>53.240</td>\n",
       "      <td>1</td>\n",
       "      <td>10.050</td>\n",
       "      <td>5</td>\n",
       "    </tr>\n",
       "    <tr>\n",
       "      <td>4</td>\n",
       "      <td>42949238806579040</td>\n",
       "      <td>A286591</td>\n",
       "      <td>30.000</td>\n",
       "      <td>default</td>\n",
       "      <td>14.433</td>\n",
       "      <td>52.480</td>\n",
       "      <td>2</td>\n",
       "      <td>1424.217</td>\n",
       "      <td>20</td>\n",
       "    </tr>\n",
       "  </tbody>\n",
       "</table>\n",
       "</div>"
      ],
      "text/plain": [
       "              UserID Products_Purchased  Cart_Value Website_section_visited  \\\n",
       "0                  0            A293532      52.140                 product   \n",
       "1  23951842225160889            H211370      33.480  product-listing-search   \n",
       "2  30833658052409950            H211394      44.680                 content   \n",
       "3  33873861847792934            H211800      53.240                 product   \n",
       "4  42949238806579040            A286591      30.000                 default   \n",
       "\n",
       "   Time_spent_Minutes_day  Total_cart_value  Total_Products_Purchased  \\\n",
       "0                   1.500       1375101.660                     20197   \n",
       "1                  26.033            60.960                         2   \n",
       "2                  54.917           216.120                         5   \n",
       "3                  10.050            53.240                         1   \n",
       "4                  14.433            52.480                         2   \n",
       "\n",
       "   Total_Time_Spent  No_of_times_visited  \n",
       "0      11780947.583              1407879  \n",
       "1            52.067                    8  \n",
       "2           381.183                   13  \n",
       "3            10.050                    5  \n",
       "4          1424.217                   20  "
      ]
     },
     "execution_count": 89,
     "metadata": {},
     "output_type": "execute_result"
    }
   ],
   "source": [
    "#Merging 4 dataset with\n",
    "df_final.drop_duplicates(subset='UserID', keep=\"first\",inplace=True)\n",
    "\n",
    "df_final=pd.merge(df_final,df_cart, on=['UserID'], how='inner', left_index=True, right_index=True)\n",
    "\n",
    "df_final=pd.merge(df_final,df_cart_Products, on=['UserID'], how='inner', left_index=True, right_index=True)\n",
    "\n",
    "df_final=pd.merge(df_final,df_cart_timestamp, on=['UserID'], how='inner', left_index=True, right_index=True)\n",
    "\n",
    "df_final=pd.merge(df_final,Login_count, on=['UserID'], how='inner')\n",
    "\n",
    "df_final.head()"
   ]
  },
  {
   "cell_type": "code",
   "execution_count": 90,
   "metadata": {},
   "outputs": [],
   "source": [
    "df_final.drop(['UserID','Products_Purchased','Cart_Value',\n",
    "               'Website_section_visited','Time_spent_Minutes_day'],axis=1,inplace=True)"
   ]
  },
  {
   "cell_type": "code",
   "execution_count": 91,
   "metadata": {},
   "outputs": [
    {
     "data": {
      "text/html": [
       "<div>\n",
       "<style scoped>\n",
       "    .dataframe tbody tr th:only-of-type {\n",
       "        vertical-align: middle;\n",
       "    }\n",
       "\n",
       "    .dataframe tbody tr th {\n",
       "        vertical-align: top;\n",
       "    }\n",
       "\n",
       "    .dataframe thead th {\n",
       "        text-align: right;\n",
       "    }\n",
       "</style>\n",
       "<table border=\"1\" class=\"dataframe\">\n",
       "  <thead>\n",
       "    <tr style=\"text-align: right;\">\n",
       "      <th></th>\n",
       "      <th>Total_cart_value</th>\n",
       "      <th>Total_Products_Purchased</th>\n",
       "      <th>Total_Time_Spent</th>\n",
       "      <th>No_of_times_visited</th>\n",
       "    </tr>\n",
       "  </thead>\n",
       "  <tbody>\n",
       "    <tr>\n",
       "      <td>0</td>\n",
       "      <td>1375101.660</td>\n",
       "      <td>20197</td>\n",
       "      <td>11780947.583</td>\n",
       "      <td>1407879</td>\n",
       "    </tr>\n",
       "    <tr>\n",
       "      <td>1</td>\n",
       "      <td>60.960</td>\n",
       "      <td>2</td>\n",
       "      <td>52.067</td>\n",
       "      <td>8</td>\n",
       "    </tr>\n",
       "    <tr>\n",
       "      <td>2</td>\n",
       "      <td>216.120</td>\n",
       "      <td>5</td>\n",
       "      <td>381.183</td>\n",
       "      <td>13</td>\n",
       "    </tr>\n",
       "    <tr>\n",
       "      <td>3</td>\n",
       "      <td>53.240</td>\n",
       "      <td>1</td>\n",
       "      <td>10.050</td>\n",
       "      <td>5</td>\n",
       "    </tr>\n",
       "    <tr>\n",
       "      <td>4</td>\n",
       "      <td>52.480</td>\n",
       "      <td>2</td>\n",
       "      <td>1424.217</td>\n",
       "      <td>20</td>\n",
       "    </tr>\n",
       "  </tbody>\n",
       "</table>\n",
       "</div>"
      ],
      "text/plain": [
       "   Total_cart_value  Total_Products_Purchased  Total_Time_Spent  \\\n",
       "0       1375101.660                     20197      11780947.583   \n",
       "1            60.960                         2            52.067   \n",
       "2           216.120                         5           381.183   \n",
       "3            53.240                         1            10.050   \n",
       "4            52.480                         2          1424.217   \n",
       "\n",
       "   No_of_times_visited  \n",
       "0              1407879  \n",
       "1                    8  \n",
       "2                   13  \n",
       "3                    5  \n",
       "4                   20  "
      ]
     },
     "execution_count": 91,
     "metadata": {},
     "output_type": "execute_result"
    }
   ],
   "source": [
    "df_final.head()"
   ]
  },
  {
   "cell_type": "code",
   "execution_count": 92,
   "metadata": {},
   "outputs": [
    {
     "data": {
      "text/html": [
       "<div>\n",
       "<style scoped>\n",
       "    .dataframe tbody tr th:only-of-type {\n",
       "        vertical-align: middle;\n",
       "    }\n",
       "\n",
       "    .dataframe tbody tr th {\n",
       "        vertical-align: top;\n",
       "    }\n",
       "\n",
       "    .dataframe thead th {\n",
       "        text-align: right;\n",
       "    }\n",
       "</style>\n",
       "<table border=\"1\" class=\"dataframe\">\n",
       "  <thead>\n",
       "    <tr style=\"text-align: right;\">\n",
       "      <th></th>\n",
       "      <th>Total_cart_value</th>\n",
       "      <th>Total_Products_Purchased</th>\n",
       "      <th>Total_Time_Spent</th>\n",
       "      <th>No_of_times_visited</th>\n",
       "      <th>Buy_probability</th>\n",
       "    </tr>\n",
       "  </thead>\n",
       "  <tbody>\n",
       "    <tr>\n",
       "      <td>0</td>\n",
       "      <td>1375101.660</td>\n",
       "      <td>20197</td>\n",
       "      <td>11780947.583</td>\n",
       "      <td>1407879</td>\n",
       "      <td>0.014</td>\n",
       "    </tr>\n",
       "    <tr>\n",
       "      <td>1</td>\n",
       "      <td>60.960</td>\n",
       "      <td>2</td>\n",
       "      <td>52.067</td>\n",
       "      <td>8</td>\n",
       "      <td>0.250</td>\n",
       "    </tr>\n",
       "    <tr>\n",
       "      <td>2</td>\n",
       "      <td>216.120</td>\n",
       "      <td>5</td>\n",
       "      <td>381.183</td>\n",
       "      <td>13</td>\n",
       "      <td>0.385</td>\n",
       "    </tr>\n",
       "    <tr>\n",
       "      <td>3</td>\n",
       "      <td>53.240</td>\n",
       "      <td>1</td>\n",
       "      <td>10.050</td>\n",
       "      <td>5</td>\n",
       "      <td>0.200</td>\n",
       "    </tr>\n",
       "    <tr>\n",
       "      <td>4</td>\n",
       "      <td>52.480</td>\n",
       "      <td>2</td>\n",
       "      <td>1424.217</td>\n",
       "      <td>20</td>\n",
       "      <td>0.100</td>\n",
       "    </tr>\n",
       "  </tbody>\n",
       "</table>\n",
       "</div>"
      ],
      "text/plain": [
       "   Total_cart_value  Total_Products_Purchased  Total_Time_Spent  \\\n",
       "0       1375101.660                     20197      11780947.583   \n",
       "1            60.960                         2            52.067   \n",
       "2           216.120                         5           381.183   \n",
       "3            53.240                         1            10.050   \n",
       "4            52.480                         2          1424.217   \n",
       "\n",
       "   No_of_times_visited  Buy_probability  \n",
       "0              1407879            0.014  \n",
       "1                    8            0.250  \n",
       "2                   13            0.385  \n",
       "3                    5            0.200  \n",
       "4                   20            0.100  "
      ]
     },
     "execution_count": 92,
     "metadata": {},
     "output_type": "execute_result"
    }
   ],
   "source": [
    "#Buy Probability\n",
    "df_final['Buy_probability']=(df_final['Total_Products_Purchased']/df_final['No_of_times_visited'])\n",
    "df_final.head()"
   ]
  },
  {
   "cell_type": "code",
   "execution_count": 93,
   "metadata": {},
   "outputs": [
    {
     "data": {
      "text/html": [
       "<div>\n",
       "<style scoped>\n",
       "    .dataframe tbody tr th:only-of-type {\n",
       "        vertical-align: middle;\n",
       "    }\n",
       "\n",
       "    .dataframe tbody tr th {\n",
       "        vertical-align: top;\n",
       "    }\n",
       "\n",
       "    .dataframe thead th {\n",
       "        text-align: right;\n",
       "    }\n",
       "</style>\n",
       "<table border=\"1\" class=\"dataframe\">\n",
       "  <thead>\n",
       "    <tr style=\"text-align: right;\">\n",
       "      <th></th>\n",
       "      <th>Total_cart_value</th>\n",
       "      <th>Total_Products_Purchased</th>\n",
       "      <th>Total_Time_Spent</th>\n",
       "      <th>No_of_times_visited</th>\n",
       "      <th>Buy_probability</th>\n",
       "      <th>User_Score_Rank</th>\n",
       "    </tr>\n",
       "  </thead>\n",
       "  <tbody>\n",
       "    <tr>\n",
       "      <td>0</td>\n",
       "      <td>1375101.660</td>\n",
       "      <td>20197</td>\n",
       "      <td>11780947.583</td>\n",
       "      <td>1407879</td>\n",
       "      <td>0.014</td>\n",
       "      <td>19726.786</td>\n",
       "    </tr>\n",
       "    <tr>\n",
       "      <td>1</td>\n",
       "      <td>60.960</td>\n",
       "      <td>2</td>\n",
       "      <td>52.067</td>\n",
       "      <td>8</td>\n",
       "      <td>0.250</td>\n",
       "      <td>15.240</td>\n",
       "    </tr>\n",
       "    <tr>\n",
       "      <td>2</td>\n",
       "      <td>216.120</td>\n",
       "      <td>5</td>\n",
       "      <td>381.183</td>\n",
       "      <td>13</td>\n",
       "      <td>0.385</td>\n",
       "      <td>83.123</td>\n",
       "    </tr>\n",
       "    <tr>\n",
       "      <td>3</td>\n",
       "      <td>53.240</td>\n",
       "      <td>1</td>\n",
       "      <td>10.050</td>\n",
       "      <td>5</td>\n",
       "      <td>0.200</td>\n",
       "      <td>10.648</td>\n",
       "    </tr>\n",
       "    <tr>\n",
       "      <td>4</td>\n",
       "      <td>52.480</td>\n",
       "      <td>2</td>\n",
       "      <td>1424.217</td>\n",
       "      <td>20</td>\n",
       "      <td>0.100</td>\n",
       "      <td>5.248</td>\n",
       "    </tr>\n",
       "  </tbody>\n",
       "</table>\n",
       "</div>"
      ],
      "text/plain": [
       "   Total_cart_value  Total_Products_Purchased  Total_Time_Spent  \\\n",
       "0       1375101.660                     20197      11780947.583   \n",
       "1            60.960                         2            52.067   \n",
       "2           216.120                         5           381.183   \n",
       "3            53.240                         1            10.050   \n",
       "4            52.480                         2          1424.217   \n",
       "\n",
       "   No_of_times_visited  Buy_probability  User_Score_Rank  \n",
       "0              1407879            0.014        19726.786  \n",
       "1                    8            0.250           15.240  \n",
       "2                   13            0.385           83.123  \n",
       "3                    5            0.200           10.648  \n",
       "4                   20            0.100            5.248  "
      ]
     },
     "execution_count": 93,
     "metadata": {},
     "output_type": "execute_result"
    }
   ],
   "source": [
    "#User Rank Score\n",
    "df_final['User_Score_Rank']=(df_final['Buy_probability']*df_final['Total_cart_value'])\n",
    "df_final.head()"
   ]
  },
  {
   "cell_type": "code",
   "execution_count": 94,
   "metadata": {},
   "outputs": [
    {
     "data": {
      "text/html": [
       "<div>\n",
       "<style scoped>\n",
       "    .dataframe tbody tr th:only-of-type {\n",
       "        vertical-align: middle;\n",
       "    }\n",
       "\n",
       "    .dataframe tbody tr th {\n",
       "        vertical-align: top;\n",
       "    }\n",
       "\n",
       "    .dataframe thead th {\n",
       "        text-align: right;\n",
       "    }\n",
       "</style>\n",
       "<table border=\"1\" class=\"dataframe\">\n",
       "  <thead>\n",
       "    <tr style=\"text-align: right;\">\n",
       "      <th></th>\n",
       "      <th>Total_cart_value</th>\n",
       "      <th>Total_Products_Purchased</th>\n",
       "      <th>Total_Time_Spent</th>\n",
       "      <th>No_of_times_visited</th>\n",
       "      <th>Buy_probability</th>\n",
       "      <th>User_Score_Rank</th>\n",
       "    </tr>\n",
       "  </thead>\n",
       "  <tbody>\n",
       "    <tr>\n",
       "      <td>1</td>\n",
       "      <td>60.960</td>\n",
       "      <td>2</td>\n",
       "      <td>52.067</td>\n",
       "      <td>8</td>\n",
       "      <td>0.250</td>\n",
       "      <td>15.240</td>\n",
       "    </tr>\n",
       "    <tr>\n",
       "      <td>2</td>\n",
       "      <td>216.120</td>\n",
       "      <td>5</td>\n",
       "      <td>381.183</td>\n",
       "      <td>13</td>\n",
       "      <td>0.385</td>\n",
       "      <td>83.123</td>\n",
       "    </tr>\n",
       "    <tr>\n",
       "      <td>3</td>\n",
       "      <td>53.240</td>\n",
       "      <td>1</td>\n",
       "      <td>10.050</td>\n",
       "      <td>5</td>\n",
       "      <td>0.200</td>\n",
       "      <td>10.648</td>\n",
       "    </tr>\n",
       "    <tr>\n",
       "      <td>4</td>\n",
       "      <td>52.480</td>\n",
       "      <td>2</td>\n",
       "      <td>1424.217</td>\n",
       "      <td>20</td>\n",
       "      <td>0.100</td>\n",
       "      <td>5.248</td>\n",
       "    </tr>\n",
       "    <tr>\n",
       "      <td>5</td>\n",
       "      <td>111.980</td>\n",
       "      <td>2</td>\n",
       "      <td>80.583</td>\n",
       "      <td>18</td>\n",
       "      <td>0.111</td>\n",
       "      <td>12.442</td>\n",
       "    </tr>\n",
       "  </tbody>\n",
       "</table>\n",
       "</div>"
      ],
      "text/plain": [
       "   Total_cart_value  Total_Products_Purchased  Total_Time_Spent  \\\n",
       "1            60.960                         2            52.067   \n",
       "2           216.120                         5           381.183   \n",
       "3            53.240                         1            10.050   \n",
       "4            52.480                         2          1424.217   \n",
       "5           111.980                         2            80.583   \n",
       "\n",
       "   No_of_times_visited  Buy_probability  User_Score_Rank  \n",
       "1                    8            0.250           15.240  \n",
       "2                   13            0.385           83.123  \n",
       "3                    5            0.200           10.648  \n",
       "4                   20            0.100            5.248  \n",
       "5                   18            0.111           12.442  "
      ]
     },
     "execution_count": 94,
     "metadata": {},
     "output_type": "execute_result"
    }
   ],
   "source": [
    "#Dropping first row\n",
    "df_final.drop(df_final.index[0],inplace=True)\n",
    "df_final.head()"
   ]
  },
  {
   "cell_type": "code",
   "execution_count": 159,
   "metadata": {},
   "outputs": [
    {
     "data": {
      "text/plain": [
       "Text(0.5, 1.0, 'Total Time Spent')"
      ]
     },
     "execution_count": 159,
     "metadata": {},
     "output_type": "execute_result"
    },
    {
     "data": {
      "image/png": "[encoded data removed]",
      "text/plain": [
       "<Figure size 432x288 with 1 Axes>"
      ]
     },
     "metadata": {
      "needs_background": "light"
     },
     "output_type": "display_data"
    }
   ],
   "source": [
    "sns.distplot(df_final['Total_Time_Spent'],kde = False,bins=50)\n",
    "plt.title(\"Total Time Spent\")"
   ]
  },
  {
   "cell_type": "code",
   "execution_count": 95,
   "metadata": {},
   "outputs": [
    {
     "name": "stdout",
     "output_type": "stream",
     "text": [
      "(32682, 5) (8171, 5)\n",
      "(32682, 1) (8171, 1)\n"
     ]
    }
   ],
   "source": [
    "from sklearn.model_selection import train_test_split\n",
    "from sklearn.preprocessing import StandardScaler\n",
    "\n",
    "X = df_final.drop(['User_Score_Rank'], axis=1) \n",
    "y = df_final[['User_Score_Rank']] # Taking Target variable\n",
    "\n",
    "\n",
    "sc = StandardScaler()\n",
    "X = sc.fit_transform(X)## Standardizing all Features as they are highly skewed \n",
    "\n",
    "# Split test and train data \n",
    "X_train, X_test, y_train, y_test = train_test_split(X, y, test_size=0.20, random_state=42)\n",
    "print(X_train.shape, X_test.shape)\n",
    "print(y_train.shape, y_test.shape)"
   ]
  },
  {
   "cell_type": "code",
   "execution_count": 119,
   "metadata": {},
   "outputs": [
    {
     "name": "stdout",
     "output_type": "stream",
     "text": [
      "RMSE :  6.367612851747115\n",
      "MSE :  40.54649342973503\n",
      "R2 :  0.9627798016764374\n"
     ]
    }
   ],
   "source": [
    "from xgboost import XGBRegressor\n",
    "from sklearn.metrics import mean_squared_error,r2_score\n",
    "from math import sqrt\n",
    "\n",
    "classifier=XGBRegressor(colsample_bytree=0.4,\n",
    "                 gamma=0,                 \n",
    "                 learning_rate=0.22,\n",
    "                 max_depth=3,\n",
    "                 min_child_weight=1.5,\n",
    "                 n_estimators=1000,                                                                    \n",
    "                 reg_alpha=0.75,\n",
    "                 reg_lambda=0.45,\n",
    "                 subsample=0.6,\n",
    "                 seed=42)\n",
    "classifier.fit(X_train,y_train)\n",
    "\n",
    "pred=classifier.predict(X_test)\n",
    "\n",
    "print(\"RMSE : \",sqrt(mean_squared_error(y_test,pred)))\n",
    "print(\"MSE : \",mean_squared_error(y_test,pred))\n",
    "print(\"R2 : \",r2_score(y_test,pred))"
   ]
  },
  {
   "cell_type": "code",
   "execution_count": 138,
   "metadata": {},
   "outputs": [
    {
     "name": "stdout",
     "output_type": "stream",
     "text": [
      "RMSE :  4.902069102884899\n",
      "MSE :  24.030281489458755\n",
      "R2 :  0.9779410802969026\n"
     ]
    }
   ],
   "source": [
    "from sklearn.ensemble import RandomForestRegressor\n",
    "classifier_rf=RandomForestRegressor()\n",
    "classifier_rf.fit(X_train,y_train)\n",
    "\n",
    "pred=classifier_rf.predict(X_test)\n",
    "\n",
    "print(\"RMSE : \",sqrt(mean_squared_error(y_test,pred)))\n",
    "print(\"MSE : \",mean_squared_error(y_test,pred))\n",
    "print(\"R2 : \",r2_score(y_test,pred))"
   ]
  },
  {
   "cell_type": "code",
   "execution_count": 139,
   "metadata": {},
   "outputs": [
    {
     "name": "stdout",
     "output_type": "stream",
     "text": [
      "Fitting 5 folds for each of 50 candidates, totalling 250 fits\n"
     ]
    },
    {
     "name": "stderr",
     "output_type": "stream",
     "text": [
      "[Parallel(n_jobs=-1)]: Using backend LokyBackend with 8 concurrent workers.\n",
      "[Parallel(n_jobs=-1)]: Done   2 tasks      | elapsed:   38.0s\n",
      "[Parallel(n_jobs=-1)]: Done  56 tasks      | elapsed:  7.4min\n",
      "[Parallel(n_jobs=-1)]: Done 146 tasks      | elapsed: 19.3min\n",
      "[Parallel(n_jobs=-1)]: Done 250 out of 250 | elapsed: 37.5min finished\n"
     ]
    },
    {
     "data": {
      "text/plain": [
       "RandomizedSearchCV(cv=5, estimator=RandomForestRegressor(), n_iter=50,\n",
       "                   n_jobs=-1,\n",
       "                   param_distributions={'bootstrap': [True, False],\n",
       "                                        'max_depth': [20, 40, 50, 60, 80],\n",
       "                                        'max_features': ['auto', 'sqrt'],\n",
       "                                        'min_samples_leaf': [1, 2, 3, 4, 5],\n",
       "                                        'min_samples_split': [2, 5, 10, 15, 20],\n",
       "                                        'n_estimators': [200, 300, 400, 500,\n",
       "                                                         600]},\n",
       "                   random_state=42, return_train_score=True,\n",
       "                   scoring='neg_mean_absolute_error', verbose=5)"
      ]
     },
     "execution_count": 139,
     "metadata": {},
     "output_type": "execute_result"
    }
   ],
   "source": [
    "n_estimators = [200, 300, 400, 500, 600]\n",
    "max_features = ['auto', 'sqrt']\n",
    "max_depth = [20,40,50,60,80]\n",
    "min_samples_split = [2, 5, 10,15,20]\n",
    "min_samples_leaf = [1, 2, 3, 4, 5]\n",
    "bootstrap = [True, False]\n",
    "\n",
    "random_grid = {'n_estimators': n_estimators,\n",
    "               'max_features': max_features,\n",
    "               'max_depth': max_depth,\n",
    "               'min_samples_split': min_samples_split,\n",
    "               'min_samples_leaf': min_samples_leaf,\n",
    "               'bootstrap': bootstrap}\n",
    "\n",
    "random_cv2 = RandomizedSearchCV(estimator = RandomForestRegressor(), \n",
    "            param_distributions = random_grid, n_iter = 50,\n",
    "            scoring = 'neg_mean_absolute_error', cv = 5, \n",
    "            verbose=5, random_state=42, n_jobs = -1,return_train_score = True)\n",
    "\n",
    "random_cv2.fit(X_train,y_train)"
   ]
  },
  {
   "cell_type": "code",
   "execution_count": 140,
   "metadata": {},
   "outputs": [
    {
     "data": {
      "text/plain": [
       "{'n_estimators': 600,\n",
       " 'min_samples_split': 5,\n",
       " 'min_samples_leaf': 2,\n",
       " 'max_features': 'auto',\n",
       " 'max_depth': 80,\n",
       " 'bootstrap': True}"
      ]
     },
     "execution_count": 140,
     "metadata": {},
     "output_type": "execute_result"
    }
   ],
   "source": [
    "random_cv2.best_params_"
   ]
  },
  {
   "cell_type": "code",
   "execution_count": 141,
   "metadata": {},
   "outputs": [
    {
     "name": "stdout",
     "output_type": "stream",
     "text": [
      "RMSE :  5.10814488019535\n",
      "MSE :  26.093144117065968\n",
      "R2 :  0.976047447836506\n"
     ]
    }
   ],
   "source": [
    "classifier=RandomForestRegressor(**random_cv2.best_params_)\n",
    "classifier.fit(X_train,y_train)\n",
    "\n",
    "pred=classifier.predict(X_test)\n",
    "\n",
    "print(\"RMSE : \",sqrt(mean_squared_error(y_test,pred)))\n",
    "print(\"MSE : \",mean_squared_error(y_test,pred))\n",
    "print(\"R2 : \",r2_score(y_test,pred))"
   ]
  },
  {
   "cell_type": "code",
   "execution_count": 145,
   "metadata": {},
   "outputs": [
    {
     "data": {
      "image/png": "[encoded data removed]",
      "text/plain": [
       "<Figure size 432x288 with 1 Axes>"
      ]
     },
     "metadata": {
      "needs_background": "light"
     },
     "output_type": "display_data"
    }
   ],
   "source": [
    "imp = pd.Series(data=classifier.feature_importances_, index=['Total_cart_value', 'Total_Products_Purchased', \n",
    "                                                             'Total_Time_Spent','No_of_times_visited', \n",
    "                                                             'Buy_probability']).sort_values(ascending=False)\n",
    "plt.title(\"Feature importance\")\n",
    "ax = sns.barplot(y=imp.index, x=imp.values, orient='h')"
   ]
  },
  {
   "cell_type": "code",
   "execution_count": null,
   "metadata": {},
   "outputs": [],
   "source": []
  }
 ],
 "metadata": {
  "kernelspec": {
   "display_name": "Python 3",
   "language": "python",
   "name": "python3"
  },
  "language_info": {
   "codemirror_mode": {
    "name": "ipython",
    "version": 3
   },
   "file_extension": ".py",
   "mimetype": "text/x-python",
   "name": "python",
   "nbconvert_exporter": "python",
   "pygments_lexer": "ipython3",
   "version": "3.7.4"
  }
 },
 "nbformat": 4,
 "nbformat_minor": 2
}
